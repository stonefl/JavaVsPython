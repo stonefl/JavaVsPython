{
 "cells": [
  {
   "cell_type": "markdown",
   "metadata": {},
   "source": [
    "As a developer, I have used both Java and Python for a while. There are many [debates about Java/Python productivity](https://pythonconquerstheuniverse.wordpress.com/2009/10/03/python-java-a-side-by-side-comparison/), but I will not discuss the issue here. In my opionion, as a good developer you should choose the best programming language based on the type of project you are working on. In order to make a decision, you should learn and know the features of both language. I would like to present a list of side-by-side comparisons the features of Python and Java, but it is hard to make a complete list, thus I make the list into a series of posts. This list by no means to be exhaustive, just representative.\n",
    "\n",
    "In the first post, I want to start with **String**, because it is a kind of _special_ object in both languages. Generally, a string is a sequence of characters, which can be indexed and concatenated. But unlike other `sequence` class, like list or array, in both languages, string is considered as immutableobject, which means it is constant and can cannot be changed once it has been created. "
   ]
  },
  {
   "cell_type": "markdown",
   "metadata": {},
   "source": [
    "# Construction "
   ]
  },
  {
   "cell_type": "code",
   "execution_count": null,
   "metadata": {
    "collapsed": true
   },
   "outputs": [],
   "source": []
  },
  {
   "cell_type": "markdown",
   "metadata": {},
   "source": [
    "In Java, "
   ]
  }
 ],
 "metadata": {
  "kernelspec": {
   "display_name": "Python 3",
   "language": "python",
   "name": "python3"
  },
  "language_info": {
   "codemirror_mode": {
    "name": "ipython",
    "version": 3
   },
   "file_extension": ".py",
   "mimetype": "text/x-python",
   "name": "python",
   "nbconvert_exporter": "python",
   "pygments_lexer": "ipython3",
   "version": "3.5.1"
  }
 },
 "nbformat": 4,
 "nbformat_minor": 0
}
